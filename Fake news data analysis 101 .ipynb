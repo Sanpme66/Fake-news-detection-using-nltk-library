{
 "cells": [
  {
   "cell_type": "markdown",
   "metadata": {},
   "source": [
    "# News data analysis "
   ]
  },
  {
   "cell_type": "code",
   "execution_count": 1,
   "metadata": {},
   "outputs": [],
   "source": [
    "#import library \n",
    "import pandas as pd\n",
    "import numpy as np\n",
    "import matplotlib.pyplot as plt\n",
    "import matplotlib\n",
    "#load matplot style 'ggplot'\n",
    "matplotlib.style.use('ggplot')\n",
    "#load NLP library\n",
    "import nltk"
   ]
  },
  {
   "cell_type": "code",
   "execution_count": 2,
   "metadata": {},
   "outputs": [],
   "source": [
    "#loading data\n",
    "news = pd.read_csv(r'D:\\Downloads\\Ds class notes\\AI\\news\\news.csv')"
   ]
  },
  {
   "cell_type": "markdown",
   "metadata": {},
   "source": [
    "## Exploring data "
   ]
  },
  {
   "cell_type": "code",
   "execution_count": 3,
   "metadata": {},
   "outputs": [
    {
     "data": {
      "text/html": [
       "<div>\n",
       "<style scoped>\n",
       "    .dataframe tbody tr th:only-of-type {\n",
       "        vertical-align: middle;\n",
       "    }\n",
       "\n",
       "    .dataframe tbody tr th {\n",
       "        vertical-align: top;\n",
       "    }\n",
       "\n",
       "    .dataframe thead th {\n",
       "        text-align: right;\n",
       "    }\n",
       "</style>\n",
       "<table border=\"1\" class=\"dataframe\">\n",
       "  <thead>\n",
       "    <tr style=\"text-align: right;\">\n",
       "      <th></th>\n",
       "      <th>Unnamed: 0</th>\n",
       "      <th>title</th>\n",
       "      <th>text</th>\n",
       "      <th>label</th>\n",
       "    </tr>\n",
       "  </thead>\n",
       "  <tbody>\n",
       "    <tr>\n",
       "      <td>0</td>\n",
       "      <td>8476</td>\n",
       "      <td>You Can Smell Hillary’s Fear</td>\n",
       "      <td>Daniel Greenfield, a Shillman Journalism Fello...</td>\n",
       "      <td>FAKE</td>\n",
       "    </tr>\n",
       "    <tr>\n",
       "      <td>1</td>\n",
       "      <td>10294</td>\n",
       "      <td>Watch The Exact Moment Paul Ryan Committed Pol...</td>\n",
       "      <td>Google Pinterest Digg Linkedin Reddit Stumbleu...</td>\n",
       "      <td>FAKE</td>\n",
       "    </tr>\n",
       "    <tr>\n",
       "      <td>2</td>\n",
       "      <td>3608</td>\n",
       "      <td>Kerry to go to Paris in gesture of sympathy</td>\n",
       "      <td>U.S. Secretary of State John F. Kerry said Mon...</td>\n",
       "      <td>REAL</td>\n",
       "    </tr>\n",
       "    <tr>\n",
       "      <td>3</td>\n",
       "      <td>10142</td>\n",
       "      <td>Bernie supporters on Twitter erupt in anger ag...</td>\n",
       "      <td>— Kaydee King (@KaydeeKing) November 9, 2016 T...</td>\n",
       "      <td>FAKE</td>\n",
       "    </tr>\n",
       "    <tr>\n",
       "      <td>4</td>\n",
       "      <td>875</td>\n",
       "      <td>The Battle of New York: Why This Primary Matters</td>\n",
       "      <td>It's primary day in New York and front-runners...</td>\n",
       "      <td>REAL</td>\n",
       "    </tr>\n",
       "    <tr>\n",
       "      <td>5</td>\n",
       "      <td>6903</td>\n",
       "      <td>Tehran, USA</td>\n",
       "      <td>\\nI’m not an immigrant, but my grandparents ...</td>\n",
       "      <td>FAKE</td>\n",
       "    </tr>\n",
       "    <tr>\n",
       "      <td>6</td>\n",
       "      <td>7341</td>\n",
       "      <td>Girl Horrified At What She Watches Boyfriend D...</td>\n",
       "      <td>Share This Baylee Luciani (left), Screenshot o...</td>\n",
       "      <td>FAKE</td>\n",
       "    </tr>\n",
       "    <tr>\n",
       "      <td>7</td>\n",
       "      <td>95</td>\n",
       "      <td>‘Britain’s Schindler’ Dies at 106</td>\n",
       "      <td>A Czech stockbroker who saved more than 650 Je...</td>\n",
       "      <td>REAL</td>\n",
       "    </tr>\n",
       "    <tr>\n",
       "      <td>8</td>\n",
       "      <td>4869</td>\n",
       "      <td>Fact check: Trump and Clinton at the 'commande...</td>\n",
       "      <td>Hillary Clinton and Donald Trump made some ina...</td>\n",
       "      <td>REAL</td>\n",
       "    </tr>\n",
       "    <tr>\n",
       "      <td>9</td>\n",
       "      <td>2909</td>\n",
       "      <td>Iran reportedly makes new push for uranium con...</td>\n",
       "      <td>Iranian negotiators reportedly have made a las...</td>\n",
       "      <td>REAL</td>\n",
       "    </tr>\n",
       "  </tbody>\n",
       "</table>\n",
       "</div>"
      ],
      "text/plain": [
       "   Unnamed: 0                                              title  \\\n",
       "0        8476                       You Can Smell Hillary’s Fear   \n",
       "1       10294  Watch The Exact Moment Paul Ryan Committed Pol...   \n",
       "2        3608        Kerry to go to Paris in gesture of sympathy   \n",
       "3       10142  Bernie supporters on Twitter erupt in anger ag...   \n",
       "4         875   The Battle of New York: Why This Primary Matters   \n",
       "5        6903                                        Tehran, USA   \n",
       "6        7341  Girl Horrified At What She Watches Boyfriend D...   \n",
       "7          95                  ‘Britain’s Schindler’ Dies at 106   \n",
       "8        4869  Fact check: Trump and Clinton at the 'commande...   \n",
       "9        2909  Iran reportedly makes new push for uranium con...   \n",
       "\n",
       "                                                text label  \n",
       "0  Daniel Greenfield, a Shillman Journalism Fello...  FAKE  \n",
       "1  Google Pinterest Digg Linkedin Reddit Stumbleu...  FAKE  \n",
       "2  U.S. Secretary of State John F. Kerry said Mon...  REAL  \n",
       "3  — Kaydee King (@KaydeeKing) November 9, 2016 T...  FAKE  \n",
       "4  It's primary day in New York and front-runners...  REAL  \n",
       "5    \\nI’m not an immigrant, but my grandparents ...  FAKE  \n",
       "6  Share This Baylee Luciani (left), Screenshot o...  FAKE  \n",
       "7  A Czech stockbroker who saved more than 650 Je...  REAL  \n",
       "8  Hillary Clinton and Donald Trump made some ina...  REAL  \n",
       "9  Iranian negotiators reportedly have made a las...  REAL  "
      ]
     },
     "execution_count": 3,
     "metadata": {},
     "output_type": "execute_result"
    }
   ],
   "source": [
    "news.head(10)"
   ]
  },
  {
   "cell_type": "code",
   "execution_count": 4,
   "metadata": {},
   "outputs": [
    {
     "data": {
      "text/plain": [
       "(6335, 4)"
      ]
     },
     "execution_count": 4,
     "metadata": {},
     "output_type": "execute_result"
    }
   ],
   "source": [
    "news.shape"
   ]
  },
  {
   "cell_type": "code",
   "execution_count": 5,
   "metadata": {},
   "outputs": [
    {
     "name": "stdout",
     "output_type": "stream",
     "text": [
      "<class 'pandas.core.frame.DataFrame'>\n",
      "RangeIndex: 6335 entries, 0 to 6334\n",
      "Data columns (total 4 columns):\n",
      "Unnamed: 0    6335 non-null int64\n",
      "title         6335 non-null object\n",
      "text          6335 non-null object\n",
      "label         6335 non-null object\n",
      "dtypes: int64(1), object(3)\n",
      "memory usage: 198.1+ KB\n"
     ]
    }
   ],
   "source": [
    "news.info()"
   ]
  },
  {
   "cell_type": "code",
   "execution_count": 6,
   "metadata": {},
   "outputs": [
    {
     "data": {
      "text/plain": [
       "Unnamed: 0    0\n",
       "title         0\n",
       "text          0\n",
       "label         0\n",
       "dtype: int64"
      ]
     },
     "execution_count": 6,
     "metadata": {},
     "output_type": "execute_result"
    }
   ],
   "source": [
    "news.isnull().sum()"
   ]
  },
  {
   "cell_type": "markdown",
   "metadata": {},
   "source": [
    "> 6335 rows and 4  Features(columns)\n",
    "\n",
    "> zero null values\n",
    "\n",
    ">data type :- object & int \n",
    "\n",
    ">one feature is unnamed so i gonna drop for next process\n"
   ]
  },
  {
   "cell_type": "markdown",
   "metadata": {},
   "source": [
    "## Let's dig into fake news"
   ]
  },
  {
   "cell_type": "code",
   "execution_count": 7,
   "metadata": {},
   "outputs": [
    {
     "data": {
      "text/html": [
       "<div>\n",
       "<style scoped>\n",
       "    .dataframe tbody tr th:only-of-type {\n",
       "        vertical-align: middle;\n",
       "    }\n",
       "\n",
       "    .dataframe tbody tr th {\n",
       "        vertical-align: top;\n",
       "    }\n",
       "\n",
       "    .dataframe thead th {\n",
       "        text-align: right;\n",
       "    }\n",
       "</style>\n",
       "<table border=\"1\" class=\"dataframe\">\n",
       "  <thead>\n",
       "    <tr style=\"text-align: right;\">\n",
       "      <th></th>\n",
       "      <th>title</th>\n",
       "      <th>text</th>\n",
       "      <th>label</th>\n",
       "    </tr>\n",
       "  </thead>\n",
       "  <tbody>\n",
       "    <tr>\n",
       "      <td>0</td>\n",
       "      <td>You Can Smell Hillary’s Fear</td>\n",
       "      <td>Daniel Greenfield, a Shillman Journalism Fello...</td>\n",
       "      <td>FAKE</td>\n",
       "    </tr>\n",
       "    <tr>\n",
       "      <td>1</td>\n",
       "      <td>Watch The Exact Moment Paul Ryan Committed Pol...</td>\n",
       "      <td>Google Pinterest Digg Linkedin Reddit Stumbleu...</td>\n",
       "      <td>FAKE</td>\n",
       "    </tr>\n",
       "    <tr>\n",
       "      <td>2</td>\n",
       "      <td>Kerry to go to Paris in gesture of sympathy</td>\n",
       "      <td>U.S. Secretary of State John F. Kerry said Mon...</td>\n",
       "      <td>REAL</td>\n",
       "    </tr>\n",
       "    <tr>\n",
       "      <td>3</td>\n",
       "      <td>Bernie supporters on Twitter erupt in anger ag...</td>\n",
       "      <td>— Kaydee King (@KaydeeKing) November 9, 2016 T...</td>\n",
       "      <td>FAKE</td>\n",
       "    </tr>\n",
       "    <tr>\n",
       "      <td>4</td>\n",
       "      <td>The Battle of New York: Why This Primary Matters</td>\n",
       "      <td>It's primary day in New York and front-runners...</td>\n",
       "      <td>REAL</td>\n",
       "    </tr>\n",
       "  </tbody>\n",
       "</table>\n",
       "</div>"
      ],
      "text/plain": [
       "                                               title  \\\n",
       "0                       You Can Smell Hillary’s Fear   \n",
       "1  Watch The Exact Moment Paul Ryan Committed Pol...   \n",
       "2        Kerry to go to Paris in gesture of sympathy   \n",
       "3  Bernie supporters on Twitter erupt in anger ag...   \n",
       "4   The Battle of New York: Why This Primary Matters   \n",
       "\n",
       "                                                text label  \n",
       "0  Daniel Greenfield, a Shillman Journalism Fello...  FAKE  \n",
       "1  Google Pinterest Digg Linkedin Reddit Stumbleu...  FAKE  \n",
       "2  U.S. Secretary of State John F. Kerry said Mon...  REAL  \n",
       "3  — Kaydee King (@KaydeeKing) November 9, 2016 T...  FAKE  \n",
       "4  It's primary day in New York and front-runners...  REAL  "
      ]
     },
     "execution_count": 7,
     "metadata": {},
     "output_type": "execute_result"
    }
   ],
   "source": [
    "# Drop a Unnamed column\n",
    "\n",
    "news_data=  news.drop(['Unnamed: 0'], axis=1)\n",
    "news_data.head(5)"
   ]
  },
  {
   "cell_type": "code",
   "execution_count": 8,
   "metadata": {},
   "outputs": [
    {
     "data": {
      "text/html": [
       "<div>\n",
       "<style scoped>\n",
       "    .dataframe tbody tr th:only-of-type {\n",
       "        vertical-align: middle;\n",
       "    }\n",
       "\n",
       "    .dataframe tbody tr th {\n",
       "        vertical-align: top;\n",
       "    }\n",
       "\n",
       "    .dataframe thead th {\n",
       "        text-align: right;\n",
       "    }\n",
       "</style>\n",
       "<table border=\"1\" class=\"dataframe\">\n",
       "  <thead>\n",
       "    <tr style=\"text-align: right;\">\n",
       "      <th></th>\n",
       "      <th>title</th>\n",
       "      <th>text</th>\n",
       "      <th>label</th>\n",
       "    </tr>\n",
       "  </thead>\n",
       "  <tbody>\n",
       "    <tr>\n",
       "      <td>0</td>\n",
       "      <td>You Can Smell Hillary’s Fear</td>\n",
       "      <td>Daniel Greenfield, a Shillman Journalism Fello...</td>\n",
       "      <td>FAKE</td>\n",
       "    </tr>\n",
       "    <tr>\n",
       "      <td>1</td>\n",
       "      <td>Watch The Exact Moment Paul Ryan Committed Pol...</td>\n",
       "      <td>Google Pinterest Digg Linkedin Reddit Stumbleu...</td>\n",
       "      <td>FAKE</td>\n",
       "    </tr>\n",
       "    <tr>\n",
       "      <td>3</td>\n",
       "      <td>Bernie supporters on Twitter erupt in anger ag...</td>\n",
       "      <td>— Kaydee King (@KaydeeKing) November 9, 2016 T...</td>\n",
       "      <td>FAKE</td>\n",
       "    </tr>\n",
       "    <tr>\n",
       "      <td>5</td>\n",
       "      <td>Tehran, USA</td>\n",
       "      <td>\\nI’m not an immigrant, but my grandparents ...</td>\n",
       "      <td>FAKE</td>\n",
       "    </tr>\n",
       "  </tbody>\n",
       "</table>\n",
       "</div>"
      ],
      "text/plain": [
       "                                               title  \\\n",
       "0                       You Can Smell Hillary’s Fear   \n",
       "1  Watch The Exact Moment Paul Ryan Committed Pol...   \n",
       "3  Bernie supporters on Twitter erupt in anger ag...   \n",
       "5                                        Tehran, USA   \n",
       "\n",
       "                                                text label  \n",
       "0  Daniel Greenfield, a Shillman Journalism Fello...  FAKE  \n",
       "1  Google Pinterest Digg Linkedin Reddit Stumbleu...  FAKE  \n",
       "3  — Kaydee King (@KaydeeKing) November 9, 2016 T...  FAKE  \n",
       "5    \\nI’m not an immigrant, but my grandparents ...  FAKE  "
      ]
     },
     "execution_count": 8,
     "metadata": {},
     "output_type": "execute_result"
    }
   ],
   "source": [
    "# Make a Fake_news data variable \n",
    "fake_news = news_data[news_data[\"label\"] == \"FAKE\"]\n",
    "#read fake news\n",
    "fake_news.head(4)"
   ]
  },
  {
   "cell_type": "code",
   "execution_count": 9,
   "metadata": {},
   "outputs": [
    {
     "data": {
      "text/plain": [
       "title    3164\n",
       "text     3164\n",
       "label    3164\n",
       "dtype: int64"
      ]
     },
     "execution_count": 9,
     "metadata": {},
     "output_type": "execute_result"
    }
   ],
   "source": [
    "fake_news.count()"
   ]
  },
  {
   "cell_type": "code",
   "execution_count": 10,
   "metadata": {},
   "outputs": [
    {
     "data": {
      "text/plain": [
       "REAL    50.055249\n",
       "FAKE    49.944751\n",
       "Name: label, dtype: float64"
      ]
     },
     "execution_count": 10,
     "metadata": {},
     "output_type": "execute_result"
    }
   ],
   "source": [
    "# let's calculate fake news %\n",
    "(news_data['label'].value_counts()/news_data.shape[0])*100"
   ]
  },
  {
   "cell_type": "code",
   "execution_count": 11,
   "metadata": {},
   "outputs": [
    {
     "data": {
      "text/plain": [
       "<matplotlib.axes._subplots.AxesSubplot at 0x1a7479fb488>"
      ]
     },
     "execution_count": 11,
     "metadata": {},
     "output_type": "execute_result"
    },
    {
     "data": {
      "image/png": "[encoded data removed]",
      "text/plain": [
       "<Figure size 432x288 with 1 Axes>"
      ]
     },
     "metadata": {
      "needs_background": "light"
     },
     "output_type": "display_data"
    }
   ],
   "source": [
    "# Plot a bar graph \n",
    "news_data.groupby(['label']).size().plot(kind='barh')"
   ]
  },
  {
   "cell_type": "code",
   "execution_count": 12,
   "metadata": {},
   "outputs": [
    {
     "data": {
      "text/plain": [
       "Hillary’s “Big Tent” is Obama’s “Grand Bargain” on Steroids                                                                  3\n",
       "Michael Moore Owes Me $4.99                                                                                                  3\n",
       "Get Ready For Civil Unrest: Survey Finds That Most Americans Are Concerned About Election Violence                           3\n",
       "The Fix Is In: NBC Affiliate Accidentally Posts Election Results A Week Early: Hillary Wins Presidency 42% to Trump’s 40%    2\n",
       "Constitutional Law Expert: Comey Did NOT Violate Law By Announcing Email Investigation                                       2\n",
       "                                                                                                                            ..\n",
       "Re: 22 Reasons Why Starting World War 3 In The Middle East Is A Really Bad Idea                                              1\n",
       "Best of Luck With the Wall                                                                                                   1\n",
       "Sentencing for Murderer of Rare Book Dealer                                                                                  1\n",
       "HOMESCHOOL FAMILIES TARGETED IN DISTRICT’S ‘OPERATION ROUND UP’                                                              1\n",
       "Racist Sign Calls For Lynching Black People To Prevent Them From Getting Equal Rights                                        1\n",
       "Name: title, Length: 3107, dtype: int64"
      ]
     },
     "execution_count": 12,
     "metadata": {},
     "output_type": "execute_result"
    }
   ],
   "source": [
    "fake_news['title'].value_counts()"
   ]
  },
  {
   "cell_type": "markdown",
   "metadata": {},
   "source": [
    "### Note :- Actually i wanted to create all fake news title in one Text but i don't know how , Now i just took one title and one text for practicing\n",
    ">If we took all text from fake news we can predict the most frequent word appears the most that could be red flag for fake news"
   ]
  },
  {
   "cell_type": "markdown",
   "metadata": {},
   "source": [
    "#### text from Fake news one title and one text"
   ]
  },
  {
   "cell_type": "code",
   "execution_count": 13,
   "metadata": {},
   "outputs": [
    {
     "data": {
      "text/plain": [
       "'Watch The Exact Moment Paul Ryan Committed Political Suicide At A Trump Rally (VIDEO)'"
      ]
     },
     "execution_count": 13,
     "metadata": {},
     "output_type": "execute_result"
    }
   ],
   "source": [
    "fake_news['title'][1]"
   ]
  },
  {
   "cell_type": "code",
   "execution_count": 14,
   "metadata": {},
   "outputs": [
    {
     "data": {
      "text/plain": [
       "'Google Pinterest Digg Linkedin Reddit Stumbleupon Print Delicious Pocket Tumblr \\nThere are two fundamental truths in this world: Paul Ryan desperately wants to be president. And Paul Ryan will never be president. Today proved it. \\nIn a particularly staggering example of political cowardice, Paul Ryan re-re-re-reversed course and announced that he was back on the Trump Train after all. This was an aboutface from where he was a few weeks ago. He had previously declared he would not be supporting or defending Trump after a tape was made public in which Trump bragged about assaulting women. Suddenly, Ryan was appearing at a pro-Trump rally and boldly declaring that he already sent in his vote to make him President of the United States. It was a surreal moment. The figurehead of the Republican Party dosed himself in gasoline, got up on a stage on a chilly afternoon in Wisconsin, and lit a match. . @SpeakerRyan says he voted for @realDonaldTrump : “Republicans, it is time to come home” https://t.co/VyTT49YvoE pic.twitter.com/wCvSCg4a5I \\n— ABC News Politics (@ABCPolitics) November 5, 2016 \\nThe Democratic Party couldn’t have asked for a better moment of film. Ryan’s chances of ever becoming president went down to zero in an instant. In the wreckage Trump is to leave behind in his wake, those who cravenly backed his campaign will not recover. If Ryan’s career manages to limp all the way to 2020, then the DNC will have this tape locked and loaded to be used in every ad until Election Day. \\nThe ringing endorsement of the man he clearly hates on a personal level speaks volumes about his own spinelessness. Ryan has postured himself as a “principled” conservative, and one uncomfortable with Trump’s unapologetic bigotry and sexism. However, when push came to shove, Paul Ryan – like many of his colleagues – turned into a sniveling appeaser. After all his lofty tak about conviction, his principles were a house of cards and collapsed with the slightest breeze. \\nWhat’s especially bizarre is how close Ryan came to making it through unscathed. For months the Speaker of the House refused to comment on Trump at all. His strategy seemed to be to keep his head down, pretend Trump didn’t exist, and hope that nobody remembered what happened in 2016. Now, just days away from the election, he screwed it all up. \\nIf 2016’s very ugly election has done any good it’s by exposing the utter cowardice of the Republicans who once feigned moral courage. A reality television star spit on them, hijacked their party, insulted their wives, and got every last one of them to kneel before him. What a turn of events. \\nFeatured image via Twitter'"
      ]
     },
     "execution_count": 14,
     "metadata": {},
     "output_type": "execute_result"
    }
   ],
   "source": [
    "text_v1=fake_news['text'][1]\n",
    "text_v1"
   ]
  },
  {
   "cell_type": "markdown",
   "metadata": {},
   "source": [
    "### Let's Remove the StopWord\n",
    ">create a funtion to remove stop words"
   ]
  },
  {
   "cell_type": "code",
   "execution_count": 15,
   "metadata": {},
   "outputs": [
    {
     "data": {
      "text/plain": [
       "'Google Pinterest Digg Linkedin Reddit Stumbleupon Print Delicious Pocket Tumblr two fundamental truths world : Paul Ryan desperately wants president . Paul Ryan never president . Today proved . particularly staggering example political cowardice , Paul Ryan re-re-re-reversed course announced back Trump Train . aboutface weeks ago . previously declared would supporting defending Trump tape made public Trump bragged assaulting women . Suddenly , Ryan appearing pro-Trump rally boldly declaring already sent vote make President United States . surreal moment . figurehead Republican Party dosed gasoline , got stage chilly afternoon Wisconsin , lit match . . @ SpeakerRyan says voted @ realDonaldTrump : “ Republicans , time come home ” https : //t.co/VyTT49YvoE pic.twitter.com/wCvSCg4a5I — ABC News Politics ( @ ABCPolitics ) November 5 , 2016 Democratic Party ’ asked better moment film . Ryan ’ chances ever becoming president went zero instant . wreckage Trump leave behind wake , cravenly backed campaign recover . Ryan ’ career manages limp way 2020 , DNC tape locked loaded used every ad Election Day . ringing endorsement man clearly hates personal level speaks volumes spinelessness . Ryan postured “ principled ” conservative , one uncomfortable Trump ’ unapologetic bigotry sexism . However , push came shove , Paul Ryan – like many colleagues – turned sniveling appeaser . lofty tak conviction , principles house cards collapsed slightest breeze . ’ especially bizarre close Ryan came making unscathed . months Speaker House refused comment Trump . strategy seemed keep head , pretend Trump ’ exist , hope nobody remembered happened 2016 . , days away election , screwed . 2016 ’ ugly election done good ’ exposing utter cowardice Republicans feigned moral courage . reality television star spit , hijacked party , insulted wives , got every last one kneel . turn events . Featured image via Twitter'"
      ]
     },
     "execution_count": 15,
     "metadata": {},
     "output_type": "execute_result"
    }
   ],
   "source": [
    "from nltk.corpus import stopwords\n",
    "\n",
    "def remove_stopword(text,lang='english'):\n",
    "    words = nltk.word_tokenize(text)\n",
    "    lang_stopword = stopwords.words(lang)\n",
    "    stopword_removed = [w for w in words if w.lower() not in lang_stopword]\n",
    "    \n",
    "    return \" \".join(stopword_removed)\n",
    "\n",
    "text_v01=remove_stopword(text_v1)\n",
    "text_v01"
   ]
  },
  {
   "cell_type": "markdown",
   "metadata": {},
   "source": [
    "### Now Remove Punctuations\n",
    ">create a Funtion to remove punctuations"
   ]
  },
  {
   "cell_type": "code",
   "execution_count": 16,
   "metadata": {},
   "outputs": [
    {
     "data": {
      "text/plain": [
       "'Google Pinterest Digg Linkedin Reddit Stumbleupon Print Delicious Pocket Tumblr two fundamental truths world Paul Ryan desperately wants president Paul Ryan never president Today proved particularly staggering example political cowardice Paul Ryan re-re-re-reversed course announced back Trump Train aboutface weeks ago previously declared would supporting defending Trump tape made public Trump bragged assaulting women Suddenly Ryan appearing pro-Trump rally boldly declaring already sent vote make President United States surreal moment figurehead Republican Party dosed gasoline got stage chilly afternoon Wisconsin lit match SpeakerRyan says voted realDonaldTrump “ Republicans time come home ” https //t.co/VyTT49YvoE pic.twitter.com/wCvSCg4a5I — ABC News Politics ABCPolitics November 5 2016 Democratic Party ’ asked better moment film Ryan ’ chances ever becoming president went zero instant wreckage Trump leave behind wake cravenly backed campaign recover Ryan ’ career manages limp way 2020 DNC tape locked loaded used every ad Election Day ringing endorsement man clearly hates personal level speaks volumes spinelessness Ryan postured “ principled ” conservative one uncomfortable Trump ’ unapologetic bigotry sexism However push came shove Paul Ryan – like many colleagues – turned sniveling appeaser lofty tak conviction principles house cards collapsed slightest breeze ’ especially bizarre close Ryan came making unscathed months Speaker House refused comment Trump strategy seemed keep head pretend Trump ’ exist hope nobody remembered happened 2016 days away election screwed 2016 ’ ugly election done good ’ exposing utter cowardice Republicans feigned moral courage reality television star spit hijacked party insulted wives got every last one kneel turn events Featured image via Twitter'"
      ]
     },
     "execution_count": 16,
     "metadata": {},
     "output_type": "execute_result"
    }
   ],
   "source": [
    "import string\n",
    "def remove_punct(text):\n",
    "    words = nltk.word_tokenize(text)\n",
    "    punct_removed = [w for w in words if w.lower() not in string.punctuation]\n",
    "    \n",
    "    return \" \".join(punct_removed)\n",
    "\n",
    "text_v02=remove_punct(text_v01)\n",
    "text_v02"
   ]
  },
  {
   "cell_type": "markdown",
   "metadata": {},
   "source": [
    "### Remove white space and Numbers\n",
    ">create Funtion to remove whitespace & Numbers"
   ]
  },
  {
   "cell_type": "code",
   "execution_count": 17,
   "metadata": {},
   "outputs": [
    {
     "data": {
      "text/plain": [
       "'Google Pinterest Digg Linkedin Reddit Stumbleupon Print Delicious Pocket Tumblr two fundamental truths world Paul Ryan desperately wants president Paul Ryan never president Today proved particularly staggering example political cowardice Paul Ryan re-re-re-reversed course announced back Trump Train aboutface weeks ago previously declared would supporting defending Trump tape made public Trump bragged assaulting women Suddenly Ryan appearing pro-Trump rally boldly declaring already sent vote make President United States surreal moment figurehead Republican Party dosed gasoline got stage chilly afternoon Wisconsin lit match SpeakerRyan says voted realDonaldTrump “ Republicans time come home ” https //t.co/VyTT49YvoE pic.twitter.com/wCvSCg4a5I — ABC News Politics ABCPolitics November 5 2016 Democratic Party ’ asked better moment film Ryan ’ chances ever becoming president went zero instant wreckage Trump leave behind wake cravenly backed campaign recover Ryan ’ career manages limp way 2020 DNC tape locked loaded used every ad Election Day ringing endorsement man clearly hates personal level speaks volumes spinelessness Ryan postured “ principled ” conservative one uncomfortable Trump ’ unapologetic bigotry sexism However push came shove Paul Ryan – like many colleagues – turned sniveling appeaser lofty tak conviction principles house cards collapsed slightest breeze ’ especially bizarre close Ryan came making unscathed months Speaker House refused comment Trump strategy seemed keep head pretend Trump ’ exist hope nobody remembered happened 2016 days away election screwed 2016 ’ ugly election done good ’ exposing utter cowardice Republicans feigned moral courage reality television star spit hijacked party insulted wives got every last one kneel turn events Featured image via Twitter'"
      ]
     },
     "execution_count": 17,
     "metadata": {},
     "output_type": "execute_result"
    }
   ],
   "source": [
    "import re\n",
    "def remove_whitespace(text):\n",
    "    return ' '.join(text.split())\n",
    "\n",
    "def remove_number(text):\n",
    "    return re.sub(r'\\d+','',text)\n",
    "\n",
    "textv03=remove_whitespace(text_v02)\n",
    "textv03"
   ]
  },
  {
   "cell_type": "markdown",
   "metadata": {},
   "source": [
    "### N- gram \n",
    ">In the fields of computational linguistics and probability, an n-gram is a contiguous sequence of n items from a given sample of text or speech. The items can be phonemes, syllables, letters, words or base pairs according to the application. The n-grams typically are collected from a text or speech corpus "
   ]
  },
  {
   "cell_type": "code",
   "execution_count": 18,
   "metadata": {},
   "outputs": [
    {
     "name": "stdout",
     "output_type": "stream",
     "text": [
      "1-Gram ['Google', 'Pinterest', 'Digg', 'Linkedin', 'Reddit', 'Stumbleupon', 'Print', 'Delicious', 'Pocket', 'Tumblr', 'two', 'fundamental', 'truths', 'world', 'Paul', 'Ryan', 'desperately', 'wants', 'president', 'Paul', 'Ryan', 'never', 'president', 'Today', 'proved', 'particularly', 'staggering', 'example', 'political', 'cowardice', 'Paul', 'Ryan', 're-re-re-reversed', 'course', 'announced', 'back', 'Trump', 'Train', 'aboutface', 'weeks', 'ago', 'previously', 'declared', 'would', 'supporting', 'defending', 'Trump', 'tape', 'made', 'public', 'Trump', 'bragged', 'assaulting', 'women', 'Suddenly', 'Ryan', 'appearing', 'pro-Trump', 'rally', 'boldly', 'declaring', 'already', 'sent', 'vote', 'make', 'President', 'United', 'States', 'surreal', 'moment', 'figurehead', 'Republican', 'Party', 'dosed', 'gasoline', 'got', 'stage', 'chilly', 'afternoon', 'Wisconsin', 'lit', 'match', 'SpeakerRyan', 'says', 'voted', 'realDonaldTrump', '“', 'Republicans', 'time', 'come', 'home', '”', 'https', '//t.co/VyTT49YvoE', 'pic.twitter.com/wCvSCg4a5I', '—', 'ABC', 'News', 'Politics', 'ABCPolitics', 'November', '5', '2016', 'Democratic', 'Party', '’', 'asked', 'better', 'moment', 'film', 'Ryan', '’', 'chances', 'ever', 'becoming', 'president', 'went', 'zero', 'instant', 'wreckage', 'Trump', 'leave', 'behind', 'wake', 'cravenly', 'backed', 'campaign', 'recover', 'Ryan', '’', 'career', 'manages', 'limp', 'way', '2020', 'DNC', 'tape', 'locked', 'loaded', 'used', 'every', 'ad', 'Election', 'Day', 'ringing', 'endorsement', 'man', 'clearly', 'hates', 'personal', 'level', 'speaks', 'volumes', 'spinelessness', 'Ryan', 'postured', '“', 'principled', '”', 'conservative', 'one', 'uncomfortable', 'Trump', '’', 'unapologetic', 'bigotry', 'sexism', 'However', 'push', 'came', 'shove', 'Paul', 'Ryan', '–', 'like', 'many', 'colleagues', '–', 'turned', 'sniveling', 'appeaser', 'lofty', 'tak', 'conviction', 'principles', 'house', 'cards', 'collapsed', 'slightest', 'breeze', '’', 'especially', 'bizarre', 'close', 'Ryan', 'came', 'making', 'unscathed', 'months', 'Speaker', 'House', 'refused', 'comment', 'Trump', 'strategy', 'seemed', 'keep', 'head', 'pretend', 'Trump', '’', 'exist', 'hope', 'nobody', 'remembered', 'happened', '2016', 'days', 'away', 'election', 'screwed', '2016', '’', 'ugly', 'election', 'done', 'good', '’', 'exposing', 'utter', 'cowardice', 'Republicans', 'feigned', 'moral', 'courage', 'reality', 'television', 'star', 'spit', 'hijacked', 'party', 'insulted', 'wives', 'got', 'every', 'last', 'one', 'kneel', 'turn', 'events', 'Featured', 'image', 'via', 'Twitter']\n"
     ]
    }
   ],
   "source": [
    "from nltk.util import ngrams\n",
    "from collections import Counter\n",
    "\n",
    "\n",
    "def get_grams(text, n):\n",
    "    n_grams = ngrams(nltk.word_tokenize(text),n)\n",
    "    return [' '.join(grams) for grams in n_grams]\n",
    "\n",
    "print('1-Gram',get_grams(textv03, 1))"
   ]
  },
  {
   "cell_type": "markdown",
   "metadata": {},
   "source": [
    "### Bigram\n",
    ">A bigram or digram is a sequence of two adjacent elements from a string of tokens, which are typically letters, syllables, or words. A bigram is an n-gram for n=2"
   ]
  },
  {
   "cell_type": "code",
   "execution_count": 19,
   "metadata": {},
   "outputs": [
    {
     "name": "stdout",
     "output_type": "stream",
     "text": [
      "Words: dict_keys(['Google', 'Pinterest', 'Digg', 'Linkedin', 'Reddit', 'Stumbleupon', 'Print', 'Delicious', 'Pocket', 'Tumblr', 'two', 'fundamental', 'truths', 'world', 'Paul', 'Ryan', 'desperately', 'wants', 'president', 'never', 'Today', 'proved', 'particularly', 'staggering', 'example', 'political', 'cowardice', 're-re-re-reversed', 'course', 'announced', 'back', 'Trump', 'Train', 'aboutface', 'weeks', 'ago', 'previously', 'declared', 'would', 'supporting', 'defending', 'tape', 'made', 'public', 'bragged', 'assaulting', 'women', 'Suddenly', 'appearing', 'pro-Trump', 'rally', 'boldly', 'declaring', 'already', 'sent', 'vote', 'make', 'President', 'United', 'States', 'surreal', 'moment', 'figurehead', 'Republican', 'Party', 'dosed', 'gasoline', 'got', 'stage', 'chilly', 'afternoon', 'Wisconsin', 'lit', 'match', 'SpeakerRyan', 'says', 'voted', 'realDonaldTrump', '“', 'Republicans', 'time', 'come', 'home', '”', 'https', '//t.co/VyTT49YvoE', 'pic.twitter.com/wCvSCg4a5I', '—', 'ABC', 'News', 'Politics', 'ABCPolitics', 'November', '5', '2016', 'Democratic', '’', 'asked', 'better', 'film', 'chances', 'ever', 'becoming', 'went', 'zero', 'instant', 'wreckage', 'leave', 'behind', 'wake', 'cravenly', 'backed', 'campaign', 'recover', 'career', 'manages', 'limp', 'way', '2020', 'DNC', 'locked', 'loaded', 'used', 'every', 'ad', 'Election', 'Day', 'ringing', 'endorsement', 'man', 'clearly', 'hates', 'personal', 'level', 'speaks', 'volumes', 'spinelessness', 'postured', 'principled', 'conservative', 'one', 'uncomfortable', 'unapologetic', 'bigotry', 'sexism', 'However', 'push', 'came', 'shove', '–', 'like', 'many', 'colleagues', 'turned', 'sniveling', 'appeaser', 'lofty', 'tak', 'conviction', 'principles', 'house', 'cards', 'collapsed', 'slightest', 'breeze', 'especially', 'bizarre', 'close', 'making', 'unscathed', 'months', 'Speaker', 'House', 'refused', 'comment', 'strategy', 'seemed', 'keep', 'head', 'pretend', 'exist', 'hope', 'nobody', 'remembered', 'happened', 'days', 'away', 'election', 'screwed', 'ugly', 'done', 'good', 'exposing', 'utter', 'feigned', 'moral', 'courage', 'reality', 'television', 'star', 'spit', 'hijacked', 'party', 'insulted', 'wives', 'last', 'kneel', 'turn', 'events', 'Featured', 'image', 'via', 'Twitter'])\n",
      "\n",
      " Frequency: dict_values([1, 1, 1, 1, 1, 1, 1, 1, 1, 1, 1, 1, 1, 1, 4, 9, 1, 1, 3, 1, 1, 1, 1, 1, 1, 1, 2, 1, 1, 1, 1, 7, 1, 1, 1, 1, 1, 1, 1, 1, 1, 2, 1, 1, 1, 1, 1, 1, 1, 1, 1, 1, 1, 1, 1, 1, 1, 1, 1, 1, 1, 2, 1, 1, 2, 1, 1, 2, 1, 1, 1, 1, 1, 1, 1, 1, 1, 1, 2, 2, 1, 1, 1, 2, 1, 1, 1, 1, 1, 1, 1, 1, 1, 1, 3, 1, 8, 1, 1, 1, 1, 1, 1, 1, 1, 1, 1, 1, 1, 1, 1, 1, 1, 1, 1, 1, 1, 1, 1, 1, 1, 1, 1, 2, 1, 1, 1, 1, 1, 1, 1, 1, 1, 1, 1, 1, 1, 1, 1, 1, 2, 1, 1, 1, 1, 1, 1, 2, 1, 2, 1, 1, 1, 1, 1, 1, 1, 1, 1, 1, 1, 1, 1, 1, 1, 1, 1, 1, 1, 1, 1, 1, 1, 1, 1, 1, 1, 1, 1, 1, 1, 1, 1, 1, 1, 1, 1, 2, 1, 1, 1, 1, 1, 1, 1, 1, 1, 1, 1, 1, 1, 1, 1, 1, 1, 1, 1, 1, 1, 1, 1, 1, 1])\n"
     ]
    },
    {
     "data": {
      "text/html": [
       "<div>\n",
       "<style scoped>\n",
       "    .dataframe tbody tr th:only-of-type {\n",
       "        vertical-align: middle;\n",
       "    }\n",
       "\n",
       "    .dataframe tbody tr th {\n",
       "        vertical-align: top;\n",
       "    }\n",
       "\n",
       "    .dataframe thead th {\n",
       "        text-align: right;\n",
       "    }\n",
       "</style>\n",
       "<table border=\"1\" class=\"dataframe\">\n",
       "  <thead>\n",
       "    <tr style=\"text-align: right;\">\n",
       "      <th></th>\n",
       "      <th>Frequency</th>\n",
       "    </tr>\n",
       "  </thead>\n",
       "  <tbody>\n",
       "    <tr>\n",
       "      <td>Google</td>\n",
       "      <td>1</td>\n",
       "    </tr>\n",
       "    <tr>\n",
       "      <td>Pinterest</td>\n",
       "      <td>1</td>\n",
       "    </tr>\n",
       "    <tr>\n",
       "      <td>Digg</td>\n",
       "      <td>1</td>\n",
       "    </tr>\n",
       "    <tr>\n",
       "      <td>Linkedin</td>\n",
       "      <td>1</td>\n",
       "    </tr>\n",
       "    <tr>\n",
       "      <td>Reddit</td>\n",
       "      <td>1</td>\n",
       "    </tr>\n",
       "    <tr>\n",
       "      <td>...</td>\n",
       "      <td>...</td>\n",
       "    </tr>\n",
       "    <tr>\n",
       "      <td>events</td>\n",
       "      <td>1</td>\n",
       "    </tr>\n",
       "    <tr>\n",
       "      <td>Featured</td>\n",
       "      <td>1</td>\n",
       "    </tr>\n",
       "    <tr>\n",
       "      <td>image</td>\n",
       "      <td>1</td>\n",
       "    </tr>\n",
       "    <tr>\n",
       "      <td>via</td>\n",
       "      <td>1</td>\n",
       "    </tr>\n",
       "    <tr>\n",
       "      <td>Twitter</td>\n",
       "      <td>1</td>\n",
       "    </tr>\n",
       "  </tbody>\n",
       "</table>\n",
       "<p>213 rows × 1 columns</p>\n",
       "</div>"
      ],
      "text/plain": [
       "           Frequency\n",
       "Google             1\n",
       "Pinterest          1\n",
       "Digg               1\n",
       "Linkedin           1\n",
       "Reddit             1\n",
       "...              ...\n",
       "events             1\n",
       "Featured           1\n",
       "image              1\n",
       "via                1\n",
       "Twitter            1\n",
       "\n",
       "[213 rows x 1 columns]"
      ]
     },
     "execution_count": 19,
     "metadata": {},
     "output_type": "execute_result"
    }
   ],
   "source": [
    "# remove punct\n",
    "text = remove_punct(textv03)\n",
    "\n",
    "# Extracting bigrams\n",
    "result = get_grams(text,1)\n",
    "\n",
    "# counting bigrams\n",
    "result_count = Counter(result) \n",
    "\n",
    "print(\"Words:\", result_count.keys()) # Bigrams\n",
    "print(\"\\n Frequency:\",result_count.values())\n",
    "\n",
    "import pandas as pd\n",
    "df = pd.DataFrame.from_dict(result_count,orient='index')\n",
    "df = df.rename(columns={'index':'Words',0:'Frequency'})\n",
    "df"
   ]
  },
  {
   "cell_type": "code",
   "execution_count": 20,
   "metadata": {},
   "outputs": [
    {
     "data": {
      "text/plain": [
       "pandas.core.indexes.base.Index"
      ]
     },
     "execution_count": 20,
     "metadata": {},
     "output_type": "execute_result"
    }
   ],
   "source": [
    "type(df.index)"
   ]
  },
  {
   "cell_type": "code",
   "execution_count": 21,
   "metadata": {},
   "outputs": [],
   "source": [
    "df.reset_index(inplace=True)"
   ]
  },
  {
   "cell_type": "code",
   "execution_count": 22,
   "metadata": {},
   "outputs": [
    {
     "data": {
      "text/html": [
       "<div>\n",
       "<style scoped>\n",
       "    .dataframe tbody tr th:only-of-type {\n",
       "        vertical-align: middle;\n",
       "    }\n",
       "\n",
       "    .dataframe tbody tr th {\n",
       "        vertical-align: top;\n",
       "    }\n",
       "\n",
       "    .dataframe thead th {\n",
       "        text-align: right;\n",
       "    }\n",
       "</style>\n",
       "<table border=\"1\" class=\"dataframe\">\n",
       "  <thead>\n",
       "    <tr style=\"text-align: right;\">\n",
       "      <th></th>\n",
       "      <th>index</th>\n",
       "      <th>Frequency</th>\n",
       "    </tr>\n",
       "  </thead>\n",
       "  <tbody>\n",
       "    <tr>\n",
       "      <td>0</td>\n",
       "      <td>Google</td>\n",
       "      <td>1</td>\n",
       "    </tr>\n",
       "    <tr>\n",
       "      <td>1</td>\n",
       "      <td>Pinterest</td>\n",
       "      <td>1</td>\n",
       "    </tr>\n",
       "    <tr>\n",
       "      <td>2</td>\n",
       "      <td>Digg</td>\n",
       "      <td>1</td>\n",
       "    </tr>\n",
       "    <tr>\n",
       "      <td>3</td>\n",
       "      <td>Linkedin</td>\n",
       "      <td>1</td>\n",
       "    </tr>\n",
       "    <tr>\n",
       "      <td>4</td>\n",
       "      <td>Reddit</td>\n",
       "      <td>1</td>\n",
       "    </tr>\n",
       "    <tr>\n",
       "      <td>...</td>\n",
       "      <td>...</td>\n",
       "      <td>...</td>\n",
       "    </tr>\n",
       "    <tr>\n",
       "      <td>208</td>\n",
       "      <td>events</td>\n",
       "      <td>1</td>\n",
       "    </tr>\n",
       "    <tr>\n",
       "      <td>209</td>\n",
       "      <td>Featured</td>\n",
       "      <td>1</td>\n",
       "    </tr>\n",
       "    <tr>\n",
       "      <td>210</td>\n",
       "      <td>image</td>\n",
       "      <td>1</td>\n",
       "    </tr>\n",
       "    <tr>\n",
       "      <td>211</td>\n",
       "      <td>via</td>\n",
       "      <td>1</td>\n",
       "    </tr>\n",
       "    <tr>\n",
       "      <td>212</td>\n",
       "      <td>Twitter</td>\n",
       "      <td>1</td>\n",
       "    </tr>\n",
       "  </tbody>\n",
       "</table>\n",
       "<p>213 rows × 2 columns</p>\n",
       "</div>"
      ],
      "text/plain": [
       "         index  Frequency\n",
       "0       Google          1\n",
       "1    Pinterest          1\n",
       "2         Digg          1\n",
       "3     Linkedin          1\n",
       "4       Reddit          1\n",
       "..         ...        ...\n",
       "208     events          1\n",
       "209   Featured          1\n",
       "210      image          1\n",
       "211        via          1\n",
       "212    Twitter          1\n",
       "\n",
       "[213 rows x 2 columns]"
      ]
     },
     "execution_count": 22,
     "metadata": {},
     "output_type": "execute_result"
    }
   ],
   "source": [
    "df"
   ]
  },
  {
   "cell_type": "code",
   "execution_count": 23,
   "metadata": {},
   "outputs": [
    {
     "data": {
      "text/plain": [
       "(array([194.,  13.,   2.,   1.,   0.,   0.,   0.,   1.,   1.,   1.]),\n",
       " array([1. , 1.8, 2.6, 3.4, 4.2, 5. , 5.8, 6.6, 7.4, 8.2, 9. ]),\n",
       " <a list of 10 Patch objects>)"
      ]
     },
     "execution_count": 23,
     "metadata": {},
     "output_type": "execute_result"
    },
    {
     "data": {
      "image/png": "[encoded data removed]",
      "text/plain": [
       "<Figure size 432x288 with 1 Axes>"
      ]
     },
     "metadata": {
      "needs_background": "light"
     },
     "output_type": "display_data"
    }
   ],
   "source": [
    "plt.hist(df['Frequency'])"
   ]
  },
  {
   "cell_type": "markdown",
   "metadata": {},
   "source": [
    ">Here the most number of word appears in fake news text is 1\n",
    "\n",
    ">If we merge all fake news text coulumn maybe have some frequent words"
   ]
  },
  {
   "cell_type": "markdown",
   "metadata": {},
   "source": [
    "### Create a word cloud \n",
    "> To visualize most frequent word"
   ]
  },
  {
   "cell_type": "code",
   "execution_count": 24,
   "metadata": {},
   "outputs": [
    {
     "name": "stderr",
     "output_type": "stream",
     "text": [
      "C:\\Users\\sanja\\Anaconda3\\lib\\site-packages\\pandas\\core\\generic.py:6287: SettingWithCopyWarning: \n",
      "A value is trying to be set on a copy of a slice from a DataFrame\n",
      "\n",
      "See the caveats in the documentation: http://pandas.pydata.org/pandas-docs/stable/user_guide/indexing.html#returning-a-view-versus-a-copy\n",
      "  self._update_inplace(new_data)\n"
     ]
    }
   ],
   "source": [
    "# Fill any blank fields\n",
    "fake_news.title.fillna(\"\", inplace=True)\n",
    "fake_news.text.fillna(\"\", inplace=True)\n",
    "# Join the title and text\n",
    "all_text = fake_news.title.str.cat(fake_news.text, sep=' ')\n",
    "# Tokenize. The NLTK tokenizer \n",
    "words = nltk.word_tokenize(\" \".join(all_text.tolist()))"
   ]
  },
  {
   "cell_type": "code",
   "execution_count": 25,
   "metadata": {},
   "outputs": [],
   "source": [
    "from nltk.corpus import stopwords\n",
    "import string\n",
    "\n",
    "# clearly more cleaning is needed here, but really I should get a better tokenizer\n",
    "stop = stopwords.words('english') \n",
    "cleanwords = [i for i in words if i not in stop and i.isalpha() and len(i) > 2]"
   ]
  },
  {
   "cell_type": "code",
   "execution_count": 26,
   "metadata": {},
   "outputs": [
    {
     "data": {
      "image/png": "[encoded data removed]",
      "text/plain": [
       "<Figure size 432x288 with 1 Axes>"
      ]
     },
     "metadata": {
      "needs_background": "light"
     },
     "output_type": "display_data"
    }
   ],
   "source": [
    "from wordcloud import WordCloud, STOPWORDS\n",
    "\n",
    "wordcloud2 = WordCloud(stopwords=STOPWORDS,background_color='white',width=1800,height=1000).generate(\" \".join(cleanwords))\n",
    "\n",
    "plt.imshow(wordcloud2)\n",
    "plt.axis('off')\n",
    "plt.show()"
   ]
  },
  {
   "cell_type": "markdown",
   "metadata": {},
   "source": [
    "> Most frequent word from fake news text are 'People, one ,said,trump'"
   ]
  },
  {
   "cell_type": "markdown",
   "metadata": {},
   "source": [
    "## Build a models"
   ]
  },
  {
   "cell_type": "code",
   "execution_count": 27,
   "metadata": {},
   "outputs": [],
   "source": [
    "# import required librarys \n",
    "from nltk.util import ngrams\n",
    "from collections import Counter\n",
    "# split the raw data\n",
    "from sklearn.model_selection import train_test_split \n",
    "# Models\n",
    "from sklearn.feature_extraction.text import CountVectorizer\n",
    "from sklearn.feature_extraction.text import TfidfVectorizer\n",
    "#error matrix\n",
    "from sklearn.metrics import confusion_matrix\n",
    "from sklearn import metrics"
   ]
  },
  {
   "cell_type": "markdown",
   "metadata": {},
   "source": [
    "#### split datasets into a Test and train sets "
   ]
  },
  {
   "cell_type": "code",
   "execution_count": 28,
   "metadata": {},
   "outputs": [],
   "source": [
    "# create indipendent variable\n",
    "y = news_data.label \n",
    "#drop dependent veriables\n",
    "news_data.drop(\"label\", axis=1)\n",
    "# split Test and train data 33% for test data \n",
    "X_train, X_test, y_train, y_test = train_test_split(news_data['text'], y, test_size=0.33)"
   ]
  },
  {
   "cell_type": "code",
   "execution_count": 29,
   "metadata": {},
   "outputs": [
    {
     "name": "stdout",
     "output_type": "stream",
     "text": [
      "4833    DISPATCHES FROM DANIEL ESPINOSA working to def...\n",
      "1058    Monsanto Behind 4-Years-in-the-Making, Failed ...\n",
      "640     A Texas jury reached a guilty verdict in the m...\n",
      "3064    14 Shares\\n4 9 0 1\\nIt's a heartwarming moment...\n",
      "5947     Trump is The Lesser Evil Because Hes Such a ...\n",
      "Name: text, dtype: object\n",
      "4833    FAKE\n",
      "1058    FAKE\n",
      "640     REAL\n",
      "3064    FAKE\n",
      "5947    FAKE\n",
      "Name: label, dtype: object\n"
     ]
    }
   ],
   "source": [
    "# open train& test data\n",
    "print(X_train.head(5))\n",
    "print(y_train.head(5))"
   ]
  },
  {
   "cell_type": "markdown",
   "metadata": {},
   "source": [
    "### CountVectorizer\n",
    ">Convert a collection of text documents to a matrix of token counts\n",
    "\n",
    "This implementation produces a sparse representation of the counts using scipy.sparse.csr_matrix.\n",
    "\n",
    "If you do not provide an a-priori dictionary and you do not use an analyzer that does some kind of feature selection then the number of features will be equal to the vocabulary size found by analyzing the data."
   ]
  },
  {
   "cell_type": "code",
   "execution_count": 30,
   "metadata": {},
   "outputs": [],
   "source": [
    "# Initialize the `count_vectorizer` \n",
    "count_vectorizer = CountVectorizer(stop_words='english')\n",
    "\n",
    "# Fit and transform the training data \n",
    "Cv_X_train_fit = count_vectorizer.fit_transform(X_train) \n",
    "\n",
    "# Transform the test set \n",
    "Cv_X_test_fit = count_vectorizer.transform(X_test)"
   ]
  },
  {
   "cell_type": "code",
   "execution_count": 31,
   "metadata": {},
   "outputs": [],
   "source": [
    "from sklearn.tree import DecisionTreeClassifier\n",
    "classifier = DecisionTreeClassifier(criterion='entropy')\n",
    "classifier.fit(Cv_X_train_fit,  y_train)\n",
    "Cv_y_pred = classifier.predict(Cv_X_test_fit)"
   ]
  },
  {
   "cell_type": "markdown",
   "metadata": {},
   "source": [
    "#### confusion matrix"
   ]
  },
  {
   "cell_type": "code",
   "execution_count": 32,
   "metadata": {},
   "outputs": [
    {
     "data": {
      "image/png": "[encoded data removed]",
      "text/plain": [
       "<IPython.core.display.Image object>"
      ]
     },
     "execution_count": 32,
     "metadata": {},
     "output_type": "execute_result"
    }
   ],
   "source": [
    " from IPython.display import Image\n",
    "Image(\"D:\\Downloads\\Ds class notes\\AI/confusion matrix.png\")"
   ]
  },
  {
   "cell_type": "code",
   "execution_count": 33,
   "metadata": {},
   "outputs": [
    {
     "name": "stdout",
     "output_type": "stream",
     "text": [
      "Fake Real\n",
      "[[878 183]\n",
      " [177 853]]\n"
     ]
    }
   ],
   "source": [
    "Cv_con_matrix = confusion_matrix(y_test,Cv_y_pred)\n",
    "print('Fake','Real')\n",
    "print(Cv_con_matrix)"
   ]
  },
  {
   "cell_type": "markdown",
   "metadata": {},
   "source": [
    ">print True and False values\n",
    "\n",
    ">https://scikit-learn.org/stable/modules/generated/sklearn.metrics.confusion_matrix.html"
   ]
  },
  {
   "cell_type": "code",
   "execution_count": 34,
   "metadata": {},
   "outputs": [
    {
     "name": "stdout",
     "output_type": "stream",
     "text": [
      "TN,FP,FN,TP\n"
     ]
    },
    {
     "data": {
      "text/plain": [
       "(878, 183, 177, 853)"
      ]
     },
     "execution_count": 34,
     "metadata": {},
     "output_type": "execute_result"
    }
   ],
   "source": [
    "tn, fp, fn, tp = confusion_matrix(y_test,Cv_y_pred).ravel()\n",
    "print('TN,FP,FN,TP')\n",
    "(tn, fp, fn, tp)"
   ]
  },
  {
   "cell_type": "code",
   "execution_count": 35,
   "metadata": {},
   "outputs": [
    {
     "data": {
      "text/plain": [
       "82.78335724533716"
      ]
     },
     "execution_count": 35,
     "metadata": {},
     "output_type": "execute_result"
    }
   ],
   "source": [
    "Cv_accuracy = metrics.accuracy_score(y_test, Cv_y_pred)*100\n",
    "Cv_accuracy"
   ]
  },
  {
   "cell_type": "markdown",
   "metadata": {},
   "source": [
    "> this model have high number of TP and TN\n",
    "\n",
    ">And accuracy 81%"
   ]
  },
  {
   "cell_type": "markdown",
   "metadata": {},
   "source": [
    "### TfidfVectorizer\n",
    ">Convert a collection of raw documents to a matrix of TF-IDF features.\n",
    "\n",
    "Equivalent to CountVectorizer followed by TfidfTransformer."
   ]
  },
  {
   "cell_type": "code",
   "execution_count": 36,
   "metadata": {},
   "outputs": [],
   "source": [
    "# Initialize the `tfidf_vectorizer` \n",
    "tfidf_vectorizer = TfidfVectorizer(stop_words='english', max_df=0.7) \n",
    "\n",
    "# Fit and transform the training data \n",
    "tfidf_train_x = tfidf_vectorizer.fit_transform(X_train) \n",
    "\n",
    "# Transform the test set \n",
    "tfidf_test_x = tfidf_vectorizer.transform(X_test)"
   ]
  },
  {
   "cell_type": "code",
   "execution_count": 37,
   "metadata": {},
   "outputs": [],
   "source": [
    "classifier_tfdf = DecisionTreeClassifier(criterion='entropy')\n",
    "classifier_tfdf.fit(tfidf_train_x, y_train)\n",
    "tfdf_y_pred = classifier.predict(tfidf_test_x)"
   ]
  },
  {
   "cell_type": "code",
   "execution_count": 38,
   "metadata": {},
   "outputs": [
    {
     "name": "stdout",
     "output_type": "stream",
     "text": [
      "FAKE REAL\n",
      "[[1060    1]\n",
      " [1020   10]]\n"
     ]
    }
   ],
   "source": [
    "Tfidf_matrix =confusion_matrix(y_test, tfdf_y_pred)\n",
    "print('FAKE',\"REAL\")\n",
    "print(Tfidf_matrix)"
   ]
  },
  {
   "cell_type": "code",
   "execution_count": 39,
   "metadata": {},
   "outputs": [
    {
     "name": "stdout",
     "output_type": "stream",
     "text": [
      "TN,FP,FN,TP\n"
     ]
    },
    {
     "data": {
      "text/plain": [
       "(1060, 1, 1020, 10)"
      ]
     },
     "execution_count": 39,
     "metadata": {},
     "output_type": "execute_result"
    }
   ],
   "source": [
    "TN,FP,FN,TP = confusion_matrix(y_test,tfdf_y_pred).ravel()\n",
    "print('TN,FP,FN,TP')\n",
    "TN,FP,FN,TP"
   ]
  },
  {
   "cell_type": "markdown",
   "metadata": {},
   "source": [
    "> in this model TN have 1040 values and TP low 8 this isn't good model \n",
    "\n",
    ">need to improve this model"
   ]
  },
  {
   "cell_type": "code",
   "execution_count": 40,
   "metadata": {},
   "outputs": [
    {
     "data": {
      "text/plain": [
       "51.17168818747011"
      ]
     },
     "execution_count": 40,
     "metadata": {},
     "output_type": "execute_result"
    }
   ],
   "source": [
    "tfidf_accuracy= metrics.accuracy_score(y_test, tfdf_y_pred )*100\n",
    "tfidf_accuracy"
   ]
  },
  {
   "cell_type": "markdown",
   "metadata": {},
   "source": [
    "> We should use normalization to incress acuuracy \n",
    "\n",
    ">CountVectorizer model are better than TfidfVectorizer model\n"
   ]
  },
  {
   "cell_type": "code",
   "execution_count": 41,
   "metadata": {},
   "outputs": [],
   "source": [
    "from sklearn.linear_model import PassiveAggressiveClassifier\n",
    "from sklearn.metrics import accuracy_score"
   ]
  },
  {
   "cell_type": "code",
   "execution_count": 42,
   "metadata": {},
   "outputs": [],
   "source": [
    "# fit a model\n",
    "PA_classifier=PassiveAggressiveClassifier(max_iter=50)\n",
    "PA_classifier.fit(tfidf_train_x,y_train)\n",
    "#Predict testset\n",
    "y_pred_PA=PA_classifier.predict(tfidf_test_x)\n",
    "#calculate accuracy\n",
    "accuracy =accuracy_score(y_test,y_pred_PA)"
   ]
  },
  {
   "cell_type": "code",
   "execution_count": 43,
   "metadata": {},
   "outputs": [
    {
     "name": "stdout",
     "output_type": "stream",
     "text": [
      "accuracy:   93.54375896700144\n"
     ]
    }
   ],
   "source": [
    "print('accuracy:  ',accuracy*100)"
   ]
  },
  {
   "cell_type": "code",
   "execution_count": 44,
   "metadata": {},
   "outputs": [
    {
     "name": "stdout",
     "output_type": "stream",
     "text": [
      "TN,FP,FN,TP\n"
     ]
    },
    {
     "data": {
      "text/plain": [
       "(991, 70, 65, 965)"
      ]
     },
     "execution_count": 44,
     "metadata": {},
     "output_type": "execute_result"
    }
   ],
   "source": [
    "TN,FP,FN,TP = confusion_matrix(y_test,y_pred_PA).ravel()\n",
    "print('TN,FP,FN,TP')\n",
    "TN,FP,FN,TP"
   ]
  },
  {
   "cell_type": "code",
   "execution_count": null,
   "metadata": {},
   "outputs": [],
   "source": []
  }
 ],
 "metadata": {
  "kernelspec": {
   "display_name": "Python 3",
   "language": "python",
   "name": "python3"
  },
  "language_info": {
   "codemirror_mode": {
    "name": "ipython",
    "version": 3
   },
   "file_extension": ".py",
   "mimetype": "text/x-python",
   "name": "python",
   "nbconvert_exporter": "python",
   "pygments_lexer": "ipython3",
   "version": "3.7.4"
  }
 },
 "nbformat": 4,
 "nbformat_minor": 2
}
